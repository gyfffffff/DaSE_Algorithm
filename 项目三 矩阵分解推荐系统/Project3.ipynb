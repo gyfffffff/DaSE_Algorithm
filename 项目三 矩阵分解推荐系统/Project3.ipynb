{
 "cells": [
  {
   "cell_type": "code",
   "execution_count": 1,
   "metadata": {
    "collapsed": true,
    "ExecuteTime": {
     "end_time": "2023-06-10T13:45:19.324241900Z",
     "start_time": "2023-06-10T13:45:19.070912900Z"
    }
   },
   "outputs": [],
   "source": [
    "import numpy as np"
   ]
  },
  {
   "cell_type": "code",
   "execution_count": 2,
   "outputs": [
    {
     "data": {
      "text/plain": "array([[0, 0, 0, ..., 0, 0, 0],\n       [4, 0, 4, ..., 0, 0, 0],\n       [0, 0, 0, ..., 0, 0, 0],\n       ...,\n       [2, 2, 2, ..., 0, 0, 0],\n       [3, 0, 0, ..., 0, 0, 0],\n       [5, 0, 0, ..., 0, 0, 0]])"
     },
     "execution_count": 2,
     "metadata": {},
     "output_type": "execute_result"
    }
   ],
   "source": [
    "UIMatrix = np.load('UIMatrix.npy')\n",
    "UIMatrix"
   ],
   "metadata": {
    "collapsed": false,
    "ExecuteTime": {
     "end_time": "2023-06-10T13:45:43.112619300Z",
     "start_time": "2023-06-10T13:45:43.048937700Z"
    }
   }
  },
  {
   "cell_type": "code",
   "execution_count": null,
   "outputs": [],
   "source": [
    "# 有正则化的矩阵分解\n",
    "# 隐空间维度k\n",
    "def mf_regular(X, k):\n",
    "    max_iter = 500\n",
    "    k = int(min(X.shape[0], X.shape[1])*0.2)\n",
    "    P = np.ones((X.shape[0], k))\n",
    "    Q = np.ones((k, X.shape[1]))\n",
    "    lam = 0.6\n",
    "    eps = 0.5  # 步长\n",
    "    E =\n",
    "    for _ in range(max_iter):\n",
    "        P = (1-lam)*P + eps*"
   ],
   "metadata": {
    "collapsed": false
   }
  }
 ],
 "metadata": {
  "kernelspec": {
   "display_name": "Python 3",
   "language": "python",
   "name": "python3"
  },
  "language_info": {
   "codemirror_mode": {
    "name": "ipython",
    "version": 2
   },
   "file_extension": ".py",
   "mimetype": "text/x-python",
   "name": "python",
   "nbconvert_exporter": "python",
   "pygments_lexer": "ipython2",
   "version": "2.7.6"
  }
 },
 "nbformat": 4,
 "nbformat_minor": 0
}
