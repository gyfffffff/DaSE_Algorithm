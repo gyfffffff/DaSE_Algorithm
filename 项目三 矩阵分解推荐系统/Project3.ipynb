{
 "cells": [
  {
   "cell_type": "code",
   "execution_count": 156,
   "metadata": {
    "collapsed": true,
    "ExecuteTime": {
     "end_time": "2023-06-11T08:57:06.376525200Z",
     "start_time": "2023-06-11T08:57:06.349822100Z"
    }
   },
   "outputs": [],
   "source": [
    "import numpy as np\n",
    "import matplotlib.pyplot as plt\n",
    "%matplotlib inline\n",
    "\n",
    "plt.rcParams['font.sans-serif'] = ['SimHei']\n",
    "plt.rcParams['axes.unicode_minus'] = False"
   ]
  },
  {
   "cell_type": "code",
   "execution_count": 3,
   "outputs": [
    {
     "data": {
      "text/plain": "array([[0, 0, 0, ..., 0, 0, 0],\n       [4, 0, 4, ..., 0, 0, 0],\n       [0, 0, 0, ..., 0, 0, 0],\n       ...,\n       [2, 2, 2, ..., 0, 0, 0],\n       [3, 0, 0, ..., 0, 0, 0],\n       [5, 0, 0, ..., 0, 0, 0]])"
     },
     "execution_count": 3,
     "metadata": {},
     "output_type": "execute_result"
    }
   ],
   "source": [
    "UIMatrix = np.load('UIMatrix.npy')\n",
    "UIMatrix"
   ],
   "metadata": {
    "collapsed": false,
    "ExecuteTime": {
     "end_time": "2023-06-11T06:37:45.906500200Z",
     "start_time": "2023-06-11T06:37:45.860944100Z"
    }
   }
  },
  {
   "cell_type": "markdown",
   "source": [
    "用户矩阵P\n",
    "商品矩阵Q\n",
    "正则化系数$\\lambda$\n",
    "步长$\\epsilon$\n",
    "迭代公式：\n",
    "$$\n",
    "P_{u\\times k} = (1-\\epsilon \\lambda)P + \\epsilon E_{u\\times i}Q^T \\\\\n",
    "Q_{k\\times i} = (1-\\epsilon \\lambda)Q + \\epsilon P^TE_{u\\times i}\n",
    "$$"
   ],
   "metadata": {
    "collapsed": false
   }
  },
  {
   "cell_type": "code",
   "execution_count": 266,
   "outputs": [
    {
     "name": "stdout",
     "output_type": "stream",
     "text": [
      "6526720.54579978\n",
      "639615.1794320245\n",
      "614743.0577272653\n",
      "603503.3873381302\n",
      "598179.5492738971\n",
      "595514.4752073663\n",
      "594063.0728969678\n",
      "step*0.9\n",
      "593226.6336875682\n",
      "592631.6152251018\n",
      "step*0.9\n",
      "592173.6922766356\n",
      "591775.9835154013\n",
      "591399.086688095\n",
      "591030.9956760049\n",
      "590665.0357072592\n",
      "590297.3625959991\n",
      "589925.6127950379\n",
      "589548.170515324\n",
      "589163.7654543119\n",
      "588771.2471582037\n",
      "588369.4531214577\n",
      "587957.1258973565\n",
      "587532.8550077867\n",
      "587095.0304777467\n",
      "586641.8007734431\n",
      "586171.0311560471\n",
      "585680.2602521384\n",
      "585166.6536794656\n",
      "584626.9542344535\n",
      "584057.4286615654\n",
      "583453.811513166\n",
      "582811.2471554467\n",
      "582124.2316420119\n",
      "581386.5570096036\n",
      "580591.261588348\n",
      "579730.5911877302\n",
      "578795.9775255556\n",
      "577778.0419839183\n",
      "576666.6346261728\n",
      "575450.9202393038\n",
      "574119.5247214255\n",
      "572660.7560295806\n",
      "571062.9136075513\n",
      "569314.6980573912\n",
      "567405.7280456674\n",
      "565327.1633232669\n",
      "563072.4208038866\n",
      "560637.954945974\n",
      "558024.055158258\n",
      "555235.5937434608\n",
      "552282.6414759152\n",
      "549180.8588095774\n",
      "545951.5737343595\n",
      "542621.4761648817\n",
      "539221.8944708706\n",
      "535787.6692784008\n",
      "532355.6954576611\n",
      "528963.2544178469\n",
      "525646.2939626438\n",
      "522437.8233419192\n",
      "519366.57382372866\n"
     ]
    },
    {
     "ename": "KeyboardInterrupt",
     "evalue": "",
     "output_type": "error",
     "traceback": [
      "\u001B[1;31m---------------------------------------------------------------------------\u001B[0m",
      "\u001B[1;31mKeyboardInterrupt\u001B[0m                         Traceback (most recent call last)",
      "\u001B[1;32m~\\AppData\\Local\\Temp\\ipykernel_84436\\3065328718.py\u001B[0m in \u001B[0;36m<module>\u001B[1;34m\u001B[0m\n\u001B[0;32m     36\u001B[0m \u001B[1;33m\u001B[0m\u001B[0m\n\u001B[0;32m     37\u001B[0m \u001B[0mloss\u001B[0m \u001B[1;33m=\u001B[0m \u001B[1;33m[\u001B[0m\u001B[1;33m]\u001B[0m\u001B[1;33m\u001B[0m\u001B[1;33m\u001B[0m\u001B[0m\n\u001B[1;32m---> 38\u001B[1;33m \u001B[0mP\u001B[0m\u001B[1;33m,\u001B[0m\u001B[0mQ\u001B[0m \u001B[1;33m=\u001B[0m \u001B[0mmf_regular\u001B[0m\u001B[1;33m(\u001B[0m\u001B[0mUIMatrix\u001B[0m\u001B[1;33m,\u001B[0m \u001B[0mloss\u001B[0m\u001B[1;33m)\u001B[0m\u001B[1;33m\u001B[0m\u001B[1;33m\u001B[0m\u001B[0m\n\u001B[0m",
      "\u001B[1;32m~\\AppData\\Local\\Temp\\ipykernel_84436\\3065328718.py\u001B[0m in \u001B[0;36mmf_regular\u001B[1;34m(X, loss)\u001B[0m\n\u001B[0;32m     17\u001B[0m         \u001B[0mP\u001B[0m \u001B[1;33m=\u001B[0m \u001B[1;33m(\u001B[0m\u001B[1;36m1\u001B[0m\u001B[1;33m-\u001B[0m\u001B[0mstep\u001B[0m\u001B[1;33m*\u001B[0m\u001B[0mlam\u001B[0m\u001B[1;33m)\u001B[0m\u001B[1;33m*\u001B[0m\u001B[0mP\u001B[0m \u001B[1;33m+\u001B[0m \u001B[0mstep\u001B[0m\u001B[1;33m*\u001B[0m\u001B[0mE\u001B[0m\u001B[1;33m@\u001B[0m\u001B[0mQ\u001B[0m\u001B[1;33m.\u001B[0m\u001B[0mT\u001B[0m\u001B[1;33m\u001B[0m\u001B[1;33m\u001B[0m\u001B[0m\n\u001B[0;32m     18\u001B[0m         \u001B[0mQ\u001B[0m \u001B[1;33m=\u001B[0m \u001B[1;33m(\u001B[0m\u001B[1;36m1\u001B[0m\u001B[1;33m-\u001B[0m\u001B[0mstep\u001B[0m\u001B[1;33m*\u001B[0m\u001B[0mlam\u001B[0m\u001B[1;33m)\u001B[0m\u001B[1;33m*\u001B[0m\u001B[0mQ\u001B[0m \u001B[1;33m+\u001B[0m \u001B[0mstep\u001B[0m\u001B[1;33m*\u001B[0m\u001B[0mP\u001B[0m\u001B[1;33m.\u001B[0m\u001B[0mT\u001B[0m\u001B[1;33m@\u001B[0m\u001B[0mE\u001B[0m\u001B[1;33m\u001B[0m\u001B[1;33m\u001B[0m\u001B[0m\n\u001B[1;32m---> 19\u001B[1;33m         \u001B[0mE\u001B[0m \u001B[1;33m=\u001B[0m \u001B[1;33m(\u001B[0m\u001B[0mX\u001B[0m \u001B[1;33m-\u001B[0m \u001B[0mP\u001B[0m \u001B[1;33m@\u001B[0m \u001B[0mQ\u001B[0m\u001B[1;33m)\u001B[0m\u001B[1;33m\u001B[0m\u001B[1;33m\u001B[0m\u001B[0m\n\u001B[0m\u001B[0;32m     20\u001B[0m         \u001B[0mlossi_old\u001B[0m \u001B[1;33m=\u001B[0m \u001B[0mlossi\u001B[0m\u001B[1;33m\u001B[0m\u001B[1;33m\u001B[0m\u001B[0m\n\u001B[0;32m     21\u001B[0m         \u001B[0mlossi\u001B[0m \u001B[1;33m=\u001B[0m \u001B[1;36m0.5\u001B[0m\u001B[1;33m*\u001B[0m\u001B[1;33m(\u001B[0m\u001B[0mnp\u001B[0m\u001B[1;33m.\u001B[0m\u001B[0mlinalg\u001B[0m\u001B[1;33m.\u001B[0m\u001B[0mnorm\u001B[0m\u001B[1;33m(\u001B[0m\u001B[0mE\u001B[0m\u001B[1;33m)\u001B[0m\u001B[1;33m**\u001B[0m\u001B[1;36m2\u001B[0m\u001B[1;33m+\u001B[0m\u001B[0mlam\u001B[0m\u001B[1;33m*\u001B[0m\u001B[1;33m(\u001B[0m\u001B[0mnp\u001B[0m\u001B[1;33m.\u001B[0m\u001B[0mlinalg\u001B[0m\u001B[1;33m.\u001B[0m\u001B[0mnorm\u001B[0m\u001B[1;33m(\u001B[0m\u001B[0mP\u001B[0m\u001B[1;33m)\u001B[0m\u001B[1;33m**\u001B[0m\u001B[1;36m2\u001B[0m\u001B[1;33m+\u001B[0m\u001B[0mnp\u001B[0m\u001B[1;33m.\u001B[0m\u001B[0mlinalg\u001B[0m\u001B[1;33m.\u001B[0m\u001B[0mnorm\u001B[0m\u001B[1;33m(\u001B[0m\u001B[0mQ\u001B[0m\u001B[1;33m)\u001B[0m\u001B[1;33m**\u001B[0m\u001B[1;36m2\u001B[0m\u001B[1;33m)\u001B[0m\u001B[1;33m)\u001B[0m\u001B[1;33m\u001B[0m\u001B[1;33m\u001B[0m\u001B[0m\n",
      "\u001B[1;31mKeyboardInterrupt\u001B[0m: "
     ]
    }
   ],
   "source": [
    "# 有正则化的矩阵分解\n",
    "# 隐空间维度k\n",
    "def mf_regular(X, loss):\n",
    "    eps1 = 10\n",
    "    eps2 = 1e-7\n",
    "    max_iter = int(2e5)\n",
    "    n,m = X.shape\n",
    "    k = int(min(n, m)*0.01)  # 隐空间大小(试出来的)\n",
    "    P = np.random.random((n, k))  # 初始化用户矩阵\n",
    "    Q = np.random.random((k, m))  # 初始化商品矩阵\n",
    "    lam = 0   # 正则化系数\n",
    "    step = 5e-6  # 步长\n",
    "    E = (X - P @ Q)  # 初始化\n",
    "    lossi = 1\n",
    "    for _ in range(max_iter):\n",
    "        # 更新P,Q,E\n",
    "        P = (1-step*lam)*P + step*E@Q.T\n",
    "        Q = (1-step*lam)*Q + step*P.T@E\n",
    "        E = (X - P @ Q)\n",
    "        lossi_old = lossi\n",
    "        lossi = 0.5*(np.linalg.norm(E)**2+lam*(np.linalg.norm(P)**2+np.linalg.norm(Q)**2))\n",
    "        loss.append(lossi)\n",
    "        if _%100==0:\n",
    "            print(lossi)\n",
    "        if np.abs(lossi-lossi_old) <= eps1:\n",
    "            if np.abs(lossi-lossi_old) <= eps2:\n",
    "                print('!')\n",
    "                break\n",
    "            elif step<=1e-9:\n",
    "                pass\n",
    "            else:\n",
    "                print('step*0.9')\n",
    "                step *= 0.9\n",
    "                eps1 *= 0.5\n",
    "    return P,Q\n",
    "\n",
    "loss = []\n",
    "P,Q = mf_regular(UIMatrix, loss)"
   ],
   "metadata": {
    "collapsed": false,
    "ExecuteTime": {
     "end_time": "2023-06-11T14:10:00.077692400Z",
     "start_time": "2023-06-11T14:02:59.816799900Z"
    }
   }
  },
  {
   "cell_type": "code",
   "execution_count": 267,
   "outputs": [
    {
     "name": "stdout",
     "output_type": "stream",
     "text": [
      "[517686.599595903, 517657.6154077746, 517628.6484393669, 517599.69870789436, 517570.766230517, 517541.85102433, 517512.9531063714, 517484.0724936185, 517455.20920298994, 517426.36325134506]\n",
      "5967\n"
     ]
    },
    {
     "data": {
      "text/plain": "<Figure size 432x288 with 1 Axes>",
      "image/png": "[encoded data removed]"
     },
     "metadata": {
      "needs_background": "light"
     },
     "output_type": "display_data"
    }
   ],
   "source": [
    "plt.plot(range(len(loss)),loss)\n",
    "print(loss[-10:])\n",
    "print(len(loss))\n",
    "plt.show()"
   ],
   "metadata": {
    "collapsed": false,
    "ExecuteTime": {
     "end_time": "2023-06-11T14:10:04.330950400Z",
     "start_time": "2023-06-11T14:10:04.149552900Z"
    }
   }
  },
  {
   "cell_type": "code",
   "execution_count": 176,
   "outputs": [
    {
     "name": "stdout",
     "output_type": "stream",
     "text": [
      "[[-0.61991081  0.1793468   0.96264556 ... -1.34211814  0.89204981\n",
      "   0.06717406]\n",
      " [-0.19230269  0.99539924 -0.20764107 ... -0.02541934  1.02464682\n",
      "   0.30612626]\n",
      " [-0.42005106  0.18727054  1.89311405 ... -0.31025125  0.17240051\n",
      "   0.09722502]\n",
      " ...\n",
      " [ 0.91002061 -1.7593836  -0.30080322 ... -0.39946707 -0.2510317\n",
      "  -0.48771645]\n",
      " [ 0.49788745  0.5814605   1.14731845 ... -0.53499646 -0.21744347\n",
      "   0.51906512]\n",
      " [ 1.64852396  0.56388476  1.12563927 ...  2.11852197 -0.28534863\n",
      "  -0.74723439]]\n"
     ]
    }
   ],
   "source": [
    "print(P@Q)"
   ],
   "metadata": {
    "collapsed": false,
    "ExecuteTime": {
     "end_time": "2023-06-11T09:19:43.445598500Z",
     "start_time": "2023-06-11T09:19:43.390174200Z"
    }
   }
  },
  {
   "cell_type": "code",
   "execution_count": null,
   "outputs": [],
   "source": [],
   "metadata": {
    "collapsed": false
   }
  }
 ],
 "metadata": {
  "kernelspec": {
   "display_name": "Python 3",
   "language": "python",
   "name": "python3"
  },
  "language_info": {
   "codemirror_mode": {
    "name": "ipython",
    "version": 2
   },
   "file_extension": ".py",
   "mimetype": "text/x-python",
   "name": "python",
   "nbconvert_exporter": "python",
   "pygments_lexer": "ipython2",
   "version": "2.7.6"
  }
 },
 "nbformat": 4,
 "nbformat_minor": 0
}
