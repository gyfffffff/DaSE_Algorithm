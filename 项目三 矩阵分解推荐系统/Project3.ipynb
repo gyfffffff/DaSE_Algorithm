{
 "cells": [
  {
   "cell_type": "code",
   "execution_count": 1,
   "metadata": {
    "collapsed": true,
    "ExecuteTime": {
     "end_time": "2023-07-03T00:55:24.978775600Z",
     "start_time": "2023-07-03T00:55:21.970874900Z"
    }
   },
   "outputs": [],
   "source": [
    "import numpy as np\n",
    "import random\n",
    "import matplotlib.pyplot as plt\n",
    "import scipy.sparse as ss\n",
    "%matplotlib inline\n",
    "\n",
    "plt.rcParams['font.sans-serif'] = ['SimHei']\n",
    "plt.rcParams['axes.unicode_minus'] = False"
   ]
  },
  {
   "cell_type": "code",
   "execution_count": 2,
   "outputs": [
    {
     "data": {
      "text/plain": "array([[4, 0, 4, ..., 0, 0, 0],\n       [0, 0, 0, ..., 0, 0, 0],\n       [0, 0, 0, ..., 0, 0, 0],\n       ...,\n       [2, 2, 2, ..., 0, 0, 0],\n       [3, 0, 0, ..., 0, 0, 0],\n       [5, 0, 0, ..., 0, 0, 0]])"
     },
     "execution_count": 2,
     "metadata": {},
     "output_type": "execute_result"
    }
   ],
   "source": [
    "UIMatrix = np.load('UIMatrix.npy')[1:, :]\n",
    "# UIMatrix = ss.csr_matrix(UIMatrix)\n",
    "UIMatrix"
   ],
   "metadata": {
    "collapsed": false,
    "ExecuteTime": {
     "end_time": "2023-07-03T00:55:25.014052Z",
     "start_time": "2023-07-03T00:55:24.977463Z"
    }
   }
  },
  {
   "cell_type": "code",
   "execution_count": 103,
   "outputs": [
    {
     "name": "stdout",
     "output_type": "stream",
     "text": [
      "84130.21718036284\n",
      "5470.974786435184\n",
      "5074.88671089121\n",
      "4934.481293536378\n",
      "4862.153065331288\n",
      "4817.165357066648\n",
      "4786.181587103849\n",
      "4763.50414582451\n",
      "4746.2188897884525\n",
      "4732.65044929299\n",
      "4721.75694524043\n",
      "4712.852819163708\n",
      "4705.467254436579\n",
      "4699.265817449944\n",
      "4694.004304550476\n",
      "4689.500202122072\n",
      "4685.614355492237\n",
      "4682.238829491801\n",
      "4679.288654421363\n",
      "4676.696076482938\n",
      "4674.406461582232\n",
      "4672.375316606454\n",
      "4670.566083904437\n",
      "4668.9484828454115\n",
      "4667.497246267908\n",
      "4666.1911468300195\n",
      "4665.01223917429\n",
      "4663.945264621495\n"
     ]
    },
    {
     "ename": "KeyboardInterrupt",
     "evalue": "",
     "output_type": "error",
     "traceback": [
      "\u001B[1;31m---------------------------------------------------------------------------\u001B[0m",
      "\u001B[1;31mKeyboardInterrupt\u001B[0m                         Traceback (most recent call last)",
      "\u001B[1;32m~\\AppData\\Local\\Temp\\ipykernel_118056\\865953945.py\u001B[0m in \u001B[0;36m<module>\u001B[1;34m\u001B[0m\n\u001B[0;32m     50\u001B[0m \u001B[1;33m\u001B[0m\u001B[0m\n\u001B[0;32m     51\u001B[0m \u001B[0mloss\u001B[0m \u001B[1;33m=\u001B[0m \u001B[1;33m[\u001B[0m\u001B[1;33m]\u001B[0m\u001B[1;33m\u001B[0m\u001B[1;33m\u001B[0m\u001B[0m\n\u001B[1;32m---> 52\u001B[1;33m \u001B[0mP\u001B[0m\u001B[1;33m,\u001B[0m \u001B[0mQ\u001B[0m\u001B[1;33m,\u001B[0m \u001B[0mtest\u001B[0m \u001B[1;33m=\u001B[0m \u001B[0mmf2\u001B[0m\u001B[1;33m(\u001B[0m\u001B[0mloss\u001B[0m\u001B[1;33m)\u001B[0m\u001B[1;33m\u001B[0m\u001B[1;33m\u001B[0m\u001B[0m\n\u001B[0m\u001B[0;32m     53\u001B[0m \u001B[0mloss1\u001B[0m \u001B[1;33m=\u001B[0m \u001B[0mnp\u001B[0m\u001B[1;33m.\u001B[0m\u001B[0marray\u001B[0m\u001B[1;33m(\u001B[0m\u001B[0mloss\u001B[0m\u001B[1;33m)\u001B[0m\u001B[1;33m\u001B[0m\u001B[1;33m\u001B[0m\u001B[0m\n\u001B[0;32m     54\u001B[0m \u001B[0mprint\u001B[0m\u001B[1;33m(\u001B[0m\u001B[0mloss\u001B[0m\u001B[1;33m[\u001B[0m\u001B[1;33m-\u001B[0m\u001B[1;36m10\u001B[0m\u001B[1;33m:\u001B[0m\u001B[1;33m]\u001B[0m\u001B[1;33m)\u001B[0m\u001B[1;33m\u001B[0m\u001B[1;33m\u001B[0m\u001B[0m\n",
      "\u001B[1;32m~\\AppData\\Local\\Temp\\ipykernel_118056\\865953945.py\u001B[0m in \u001B[0;36mmf2\u001B[1;34m(loss)\u001B[0m\n\u001B[0;32m     39\u001B[0m                 \u001B[0mP\u001B[0m\u001B[1;33m[\u001B[0m\u001B[0mi\u001B[0m\u001B[1;33m,\u001B[0m \u001B[0mu\u001B[0m\u001B[1;33m]\u001B[0m \u001B[1;33m+=\u001B[0m \u001B[1;33m(\u001B[0m\u001B[0meij\u001B[0m \u001B[1;33m*\u001B[0m \u001B[0mQ\u001B[0m\u001B[1;33m[\u001B[0m\u001B[0mu\u001B[0m\u001B[1;33m,\u001B[0m \u001B[0mj\u001B[0m\u001B[1;33m]\u001B[0m\u001B[1;33m-\u001B[0m\u001B[0mlam\u001B[0m\u001B[1;33m*\u001B[0m\u001B[0mP\u001B[0m\u001B[1;33m[\u001B[0m\u001B[0mi\u001B[0m\u001B[1;33m,\u001B[0m\u001B[0mu\u001B[0m\u001B[1;33m]\u001B[0m\u001B[1;33m)\u001B[0m \u001B[1;33m*\u001B[0m \u001B[0mstep\u001B[0m\u001B[1;33m\u001B[0m\u001B[1;33m\u001B[0m\u001B[0m\n\u001B[0;32m     40\u001B[0m                 \u001B[0mQ\u001B[0m\u001B[1;33m[\u001B[0m\u001B[0mu\u001B[0m\u001B[1;33m,\u001B[0m \u001B[0mj\u001B[0m\u001B[1;33m]\u001B[0m \u001B[1;33m+=\u001B[0m \u001B[1;33m(\u001B[0m\u001B[0meij\u001B[0m \u001B[1;33m*\u001B[0m \u001B[0mP\u001B[0m\u001B[1;33m[\u001B[0m\u001B[0mi\u001B[0m\u001B[1;33m,\u001B[0m \u001B[0mu\u001B[0m\u001B[1;33m]\u001B[0m\u001B[1;33m-\u001B[0m\u001B[0mlam\u001B[0m\u001B[1;33m*\u001B[0m\u001B[0mQ\u001B[0m\u001B[1;33m[\u001B[0m\u001B[0mu\u001B[0m\u001B[1;33m,\u001B[0m\u001B[0mj\u001B[0m\u001B[1;33m]\u001B[0m\u001B[1;33m)\u001B[0m \u001B[1;33m*\u001B[0m \u001B[0mstep\u001B[0m\u001B[1;33m\u001B[0m\u001B[1;33m\u001B[0m\u001B[0m\n\u001B[1;32m---> 41\u001B[1;33m             \u001B[0mlossi\u001B[0m \u001B[1;33m+=\u001B[0m \u001B[0meij\u001B[0m \u001B[1;33m**\u001B[0m \u001B[1;36m2\u001B[0m\u001B[1;33m+\u001B[0m\u001B[0mlam\u001B[0m\u001B[1;33m*\u001B[0m\u001B[1;33m(\u001B[0m\u001B[0mnp\u001B[0m\u001B[1;33m.\u001B[0m\u001B[0mdot\u001B[0m\u001B[1;33m(\u001B[0m\u001B[0mP\u001B[0m\u001B[1;33m[\u001B[0m\u001B[0mi\u001B[0m\u001B[1;33m,\u001B[0m\u001B[1;33m:\u001B[0m\u001B[1;33m]\u001B[0m\u001B[1;33m,\u001B[0m\u001B[0mP\u001B[0m\u001B[1;33m[\u001B[0m\u001B[0mi\u001B[0m\u001B[1;33m,\u001B[0m\u001B[1;33m:\u001B[0m\u001B[1;33m]\u001B[0m\u001B[1;33m)\u001B[0m\u001B[1;33m+\u001B[0m\u001B[0mnp\u001B[0m\u001B[1;33m.\u001B[0m\u001B[0mdot\u001B[0m\u001B[1;33m(\u001B[0m\u001B[0mQ\u001B[0m\u001B[1;33m[\u001B[0m\u001B[1;33m:\u001B[0m\u001B[1;33m,\u001B[0m\u001B[0mj\u001B[0m\u001B[1;33m]\u001B[0m\u001B[1;33m,\u001B[0m\u001B[0mQ\u001B[0m\u001B[1;33m[\u001B[0m\u001B[1;33m:\u001B[0m\u001B[1;33m,\u001B[0m\u001B[0mj\u001B[0m\u001B[1;33m]\u001B[0m\u001B[1;33m)\u001B[0m\u001B[1;33m)\u001B[0m\u001B[1;33m\u001B[0m\u001B[1;33m\u001B[0m\u001B[0m\n\u001B[0m\u001B[0;32m     42\u001B[0m         \u001B[0mloss\u001B[0m\u001B[1;33m.\u001B[0m\u001B[0mappend\u001B[0m\u001B[1;33m(\u001B[0m\u001B[0mlossi\u001B[0m\u001B[1;33m*\u001B[0m\u001B[1;36m0.5\u001B[0m\u001B[1;33m)\u001B[0m\u001B[1;33m\u001B[0m\u001B[1;33m\u001B[0m\u001B[0m\n\u001B[0;32m     43\u001B[0m         \u001B[1;32mif\u001B[0m \u001B[0mnp\u001B[0m\u001B[1;33m.\u001B[0m\u001B[0mabs\u001B[0m\u001B[1;33m(\u001B[0m\u001B[0mlossi\u001B[0m \u001B[1;33m-\u001B[0m \u001B[0mlossi_old\u001B[0m\u001B[1;33m)\u001B[0m \u001B[1;33m<\u001B[0m \u001B[0meps\u001B[0m\u001B[1;33m:\u001B[0m\u001B[1;33m\u001B[0m\u001B[1;33m\u001B[0m\u001B[0m\n",
      "\u001B[1;32m<__array_function__ internals>\u001B[0m in \u001B[0;36mdot\u001B[1;34m(*args, **kwargs)\u001B[0m\n",
      "\u001B[1;31mKeyboardInterrupt\u001B[0m: "
     ]
    }
   ],
   "source": [
    "# 逐元素\n",
    "X = UIMatrix.copy()[:200, :600]\n",
    "# X = np.array([[5, 3, 0, 1],\n",
    "#               [4, 0, 0, 1],\n",
    "#               [1, 0, 0, 4],\n",
    "#               [0, 1, 5, 4],\n",
    "#               [0, 1, 5, 4]])\n",
    "\n",
    "def mf2(loss):\n",
    "    n, m = X.shape\n",
    "    k = 32 # 隐空间大小(试出来的)\n",
    "    row, col, val = ss.find(X)\n",
    "\n",
    "    step = 8e-4\n",
    "    eps = 1e-3\n",
    "    lam = 0.08  # 正则化系数\n",
    "\n",
    "    # 划分训练集，测试集\n",
    "    train_test_rate = 0.15\n",
    "    ziprc = np.array((row, col, val)).T\n",
    "    np.random.shuffle(ziprc)\n",
    "    test = ziprc[:int(ziprc.shape[0] * train_test_rate), :]\n",
    "    train = ziprc[int(ziprc.shape[0] * train_test_rate):, :]\n",
    "\n",
    "    # 初始化\n",
    "    P = np.random.rand(n, k)  # 初始化用户矩阵\n",
    "    Q = np.random.rand(k, m)  # 初始化商品矩阵\n",
    "\n",
    "    train_x = list(train[:, 0])\n",
    "    train_y = list(train[:, 1])\n",
    "\n",
    "    max_iter = int(8e4)\n",
    "    lossi_old = 1e6\n",
    "    for _ in range(max_iter):\n",
    "        lossi = 0\n",
    "        for i, j in zip(train_x, train_y):\n",
    "            eij = X[i, j] - np.dot(P[i, :], Q[:, j])\n",
    "            for u in range(k):\n",
    "                P[i, u] += (eij * Q[u, j]-lam*P[i,u]) * step\n",
    "                Q[u, j] += (eij * P[i, u]-lam*Q[u,j]) * step\n",
    "            lossi += eij ** 2+lam*(np.dot(P[i,:],P[i,:])+np.dot(Q[:,j],Q[:,j]))\n",
    "        loss.append(lossi*0.5)\n",
    "        if np.abs(lossi - lossi_old) < eps:\n",
    "            break\n",
    "        lossi_old = lossi\n",
    "        if _ % 500 == 0:\n",
    "            print(lossi)\n",
    "    return P, Q, test\n",
    "\n",
    "\n",
    "loss = []\n",
    "P, Q, test = mf2(loss)\n",
    "loss1 = np.array(loss)\n",
    "print(loss[-10:])\n",
    "print(len(loss))\n",
    "plt.plot(range(len(loss)), loss)\n",
    "plt.show()\n",
    "\n",
    "np.save('全批量，无正则化，固定步长loss', loss1)\n",
    "np.save('全批量，无正则化，固定步长P', P)\n",
    "np.save('全批量，无正则化，固定步长Q', Q)\n",
    "np.save('全批量，无正则化，测试集', test)"
   ],
   "metadata": {
    "collapsed": false,
    "ExecuteTime": {
     "end_time": "2023-07-02T09:26:58.340266500Z",
     "start_time": "2023-07-02T07:21:13.654227800Z"
    }
   }
  },
  {
   "cell_type": "code",
   "execution_count": 102,
   "outputs": [
    {
     "name": "stdout",
     "output_type": "stream",
     "text": [
      "[[4 0 4 ... 0 0 0]\n",
      " [0 0 0 ... 0 0 0]\n",
      " [0 0 0 ... 0 0 0]\n",
      " ...\n",
      " [0 0 0 ... 0 0 0]\n",
      " [0 0 0 ... 0 0 0]\n",
      " [3 0 0 ... 0 0 0]]\n"
     ]
    },
    {
     "data": {
      "text/plain": "array([[4.06565267, 3.67987387, 4.03130474, ..., 3.27553426, 2.93078491,\n        3.04726625],\n       [3.51474317, 3.43111879, 3.99750637, ..., 2.68612836, 2.35153744,\n        2.4774732 ],\n       [2.30867815, 2.19996325, 2.54863573, ..., 2.14898279, 1.5680776 ,\n        1.79044182],\n       ...,\n       [3.00381055, 3.02210075, 3.60030231, ..., 3.35136221, 2.80792696,\n        2.29467249],\n       [3.69910933, 2.97673026, 2.99845926, ..., 2.02676001, 1.97761081,\n        2.15010291],\n       [3.45972627, 3.04062855, 3.63097592, ..., 3.07445137, 1.94816766,\n        2.46009674]])"
     },
     "execution_count": 102,
     "metadata": {},
     "output_type": "execute_result"
    }
   ],
   "source": [
    "print(X)\n",
    "P @ Q"
   ],
   "metadata": {
    "collapsed": false,
    "ExecuteTime": {
     "end_time": "2023-07-02T07:21:10.948865800Z",
     "start_time": "2023-07-02T07:21:10.925115900Z"
    }
   }
  },
  {
   "cell_type": "code",
   "execution_count": 97,
   "outputs": [
    {
     "name": "stdout",
     "output_type": "stream",
     "text": [
      "r_ij: 4  r_ij_hat: 3.0  loss: 1.0\n",
      "r_ij: 3  r_ij_hat: 3.0  loss: 0.0\n",
      "r_ij: 3  r_ij_hat: 3.0  loss: 0.0\n",
      "r_ij: 4  r_ij_hat: 4.0  loss: 0.0\n",
      "r_ij: 4  r_ij_hat: 3.0  loss: 1.0\n",
      "r_ij: 2  r_ij_hat: 3.0  loss: -1.0\n",
      "r_ij: 5  r_ij_hat: 4.0  loss: 1.0\n",
      "r_ij: 4  r_ij_hat: 3.0  loss: 1.0\n",
      "r_ij: 4  r_ij_hat: 4.0  loss: 0.0\n",
      "r_ij: 2  r_ij_hat: 2.0  loss: 0.0\n",
      "r_ij: 4  r_ij_hat: 4.0  loss: 0.0\n",
      "r_ij: 3  r_ij_hat: 3.0  loss: 0.0\n",
      "r_ij: 4  r_ij_hat: 3.0  loss: 1.0\n",
      "r_ij: 4  r_ij_hat: 4.0  loss: 0.0\n",
      "r_ij: 4  r_ij_hat: 3.0  loss: 1.0\n",
      "r_ij: 3  r_ij_hat: 4.0  loss: -1.0\n",
      "r_ij: 2  r_ij_hat: 4.0  loss: -2.0\n",
      "r_ij: 4  r_ij_hat: 4.0  loss: 0.0\n"
     ]
    }
   ],
   "source": [
    "test_x = list(test[:, 0])\n",
    "test_y = list(test[:, 1])\n",
    "for i, j in zip(test_x, test_y):\n",
    "    r_ij = X[i, j]\n",
    "    r_ij_hat = np.around(P[i, :].T @ Q[:, j])\n",
    "    lossi = (r_ij - r_ij_hat)\n",
    "    print(\"r_ij:\",r_ij, \" r_ij_hat:\", r_ij_hat, \" loss:\", lossi)"
   ],
   "metadata": {
    "collapsed": false,
    "ExecuteTime": {
     "end_time": "2023-07-02T06:52:58.780951400Z",
     "start_time": "2023-07-02T06:52:58.762089Z"
    }
   }
  },
  {
   "cell_type": "markdown",
   "source": [
    "用户矩阵P\n",
    "商品矩阵Q\n",
    "正则化系数$\\lambda$\n",
    "步长$\\epsilon$\n",
    "迭代公式：\n",
    "$$\n",
    "P_{u\\times k} = (1-\\epsilon \\lambda)P + \\epsilon E_{u\\times i}Q^T \\\\\n",
    "Q_{k\\times i} = (1-\\epsilon \\lambda)Q + \\epsilon P^TE_{u\\times i}\n",
    "$$"
   ],
   "metadata": {
    "collapsed": false
   }
  },
  {
   "cell_type": "code",
   "execution_count": 21,
   "outputs": [
    {
     "name": "stdout",
     "output_type": "stream",
     "text": [
      "128.69047551292698\n",
      "106.74203155576197\n",
      "91.51330692231667\n",
      "80.20122967212404\n",
      "71.36807140471\n",
      "64.24560788670412\n",
      "58.3909513239715\n",
      "53.521921307857326\n",
      "49.44018434260376\n",
      "45.99567126727625\n",
      "43.0697599403505\n",
      "40.5667459309342\n",
      "38.40890944155689\n",
      "36.53316464458493\n",
      "34.888469632116454\n",
      "33.43368047557925\n",
      "32.13573232317073\n",
      "30.96810026892092\n",
      "29.909511812420508\n",
      "28.942884806632936\n",
      "28.054463175296995\n",
      "27.233121850595698\n",
      "26.469813257309248\n",
      "25.757129936010816\n",
      "25.08896096149471\n",
      "24.46022315097607\n",
      "23.866651308011527\n",
      "23.30463470288924\n",
      "22.771089552733287\n",
      "!\n",
      "[22.363956238857007, 22.36295547569009, 22.36195480820213, 22.360954236375463, 22.359953760192454, 22.358953379635413, 22.357953094686724, 22.356952905328733, 22.35595281154382, 22.354952813314323]\n",
      "14409\n"
     ]
    },
    {
     "data": {
      "text/plain": "<Figure size 432x288 with 1 Axes>",
      "image/png": "[encoded data removed]"
     },
     "metadata": {
      "needs_background": "light"
     },
     "output_type": "display_data"
    }
   ],
   "source": [
    "# 全批量，无正则化，固定步长\n",
    "# 运行时间 150min 9s\n",
    "# 隐空间维度k\n",
    "# input:\n",
    "# X: 评分矩阵\n",
    "# loss：空列表，用于存储loss,便于画图\n",
    "def mf(X, loss):\n",
    "    eps = 1e-3\n",
    "    step = 8e-6  # 步长\n",
    "    max_iter = int(1e5)\n",
    "    n, m = X.shape\n",
    "    k = int(min(n, m) * 0.6)  # 隐空间大小(试出来的)\n",
    "\n",
    "    P = np.random.rand(n, k)  # 初始化用户矩阵\n",
    "    Q = np.random.rand(k, m)  # 初始化商品矩阵\n",
    "    mask = X != 0\n",
    "    E = np.where(mask, X - P @ Q, X)  # 初始化\n",
    "\n",
    "    lossi = 1e4\n",
    "    for _ in range(max_iter):\n",
    "        # 更新P,Q,E\n",
    "        P = P + step * E @ Q.T\n",
    "        Q = Q + step * P.T @ E\n",
    "        E = np.where(mask, X - P @ Q, X)\n",
    "        lossi_old = lossi\n",
    "        lossi = 0.5 * (np.linalg.norm(E) ** 2)\n",
    "        loss.append(lossi)\n",
    "        if _ % 500 == 0:\n",
    "            print(lossi)\n",
    "        if np.abs(lossi - lossi_old) <= eps:\n",
    "            print('!')\n",
    "            break\n",
    "    return P, Q\n",
    "\n",
    "\n",
    "loss = []\n",
    "P, Q = mf(UIMatrix[1:20, :60], loss)\n",
    "loss1 = np.array(loss)\n",
    "np.save('全批量，无正则化，固定步长loss', loss1)\n",
    "np.save('全批量，无正则化，固定步长P', P)\n",
    "np.save('全批量，无正则化，固定步长Q', Q)\n",
    "plt.plot(range(len(loss)), loss)\n",
    "print(loss[-10:])\n",
    "print(len(loss))\n",
    "plt.show()"
   ],
   "metadata": {
    "collapsed": false,
    "ExecuteTime": {
     "end_time": "2023-07-02T05:45:06.373284600Z",
     "start_time": "2023-07-02T05:45:05.769201400Z"
    }
   }
  },
  {
   "cell_type": "code",
   "execution_count": 22,
   "outputs": [
    {
     "data": {
      "text/plain": "array([[2.84266778, 2.70356775, 4.16743095, ..., 2.97295834, 2.9680675 ,\n        2.18290834],\n       [3.36232752, 3.27738361, 3.84310378, ..., 3.00562485, 3.57757915,\n        2.88024451],\n       [3.44266824, 3.19750026, 2.70460392, ..., 2.3507491 , 2.51180153,\n        2.76262354],\n       ...,\n       [3.77012889, 3.29976018, 3.70743035, ..., 2.94653519, 2.99378291,\n        2.80236559],\n       [3.2438067 , 2.33429833, 3.24202412, ..., 2.0912004 , 2.60628619,\n        2.93757917],\n       [4.17003564, 3.63098773, 4.86871575, ..., 3.83287915, 3.81661796,\n        3.01000078]])"
     },
     "execution_count": 22,
     "metadata": {},
     "output_type": "execute_result"
    }
   ],
   "source": [
    "P @ Q"
   ],
   "metadata": {
    "collapsed": false,
    "ExecuteTime": {
     "end_time": "2023-07-02T05:45:26.117189800Z",
     "start_time": "2023-07-02T05:45:26.101347500Z"
    }
   }
  },
  {
   "cell_type": "code",
   "execution_count": 10,
   "outputs": [
    {
     "ename": "ValueError",
     "evalue": "operands could not be broadcast together with shapes (611,366) (99466,) ",
     "output_type": "error",
     "traceback": [
      "\u001B[1;31m---------------------------------------------------------------------------\u001B[0m",
      "\u001B[1;31mValueError\u001B[0m                                Traceback (most recent call last)",
      "\u001B[1;32m~\\AppData\\Local\\Temp\\ipykernel_28184\\2166953643.py\u001B[0m in \u001B[0;36m<module>\u001B[1;34m\u001B[0m\n\u001B[0;32m     37\u001B[0m \u001B[1;33m\u001B[0m\u001B[0m\n\u001B[0;32m     38\u001B[0m \u001B[0mloss\u001B[0m \u001B[1;33m=\u001B[0m \u001B[1;33m[\u001B[0m\u001B[1;33m]\u001B[0m\u001B[1;33m\u001B[0m\u001B[1;33m\u001B[0m\u001B[0m\n\u001B[1;32m---> 39\u001B[1;33m \u001B[0mP\u001B[0m\u001B[1;33m,\u001B[0m\u001B[0mQ\u001B[0m \u001B[1;33m=\u001B[0m \u001B[0mmf\u001B[0m\u001B[1;33m(\u001B[0m\u001B[0mUIMatrix\u001B[0m\u001B[1;33m,\u001B[0m \u001B[0mloss\u001B[0m\u001B[1;33m)\u001B[0m\u001B[1;33m\u001B[0m\u001B[1;33m\u001B[0m\u001B[0m\n\u001B[0m\u001B[0;32m     40\u001B[0m \u001B[0mloss1\u001B[0m \u001B[1;33m=\u001B[0m \u001B[0mnp\u001B[0m\u001B[1;33m.\u001B[0m\u001B[0marray\u001B[0m\u001B[1;33m(\u001B[0m\u001B[0mloss\u001B[0m\u001B[1;33m)\u001B[0m\u001B[1;33m\u001B[0m\u001B[1;33m\u001B[0m\u001B[0m\n\u001B[0;32m     41\u001B[0m \u001B[0mnp\u001B[0m\u001B[1;33m.\u001B[0m\u001B[0msave\u001B[0m\u001B[1;33m(\u001B[0m\u001B[1;34m'全批量，有正则化，固定步长loss'\u001B[0m\u001B[1;33m,\u001B[0m\u001B[0mloss1\u001B[0m\u001B[1;33m)\u001B[0m\u001B[1;33m\u001B[0m\u001B[1;33m\u001B[0m\u001B[0m\n",
      "\u001B[1;32m~\\AppData\\Local\\Temp\\ipykernel_28184\\2166953643.py\u001B[0m in \u001B[0;36mmf\u001B[1;34m(X, loss)\u001B[0m\n\u001B[0;32m     23\u001B[0m     \u001B[1;32mfor\u001B[0m \u001B[0m_\u001B[0m \u001B[1;32min\u001B[0m \u001B[0mrange\u001B[0m\u001B[1;33m(\u001B[0m\u001B[0mmax_iter\u001B[0m\u001B[1;33m)\u001B[0m\u001B[1;33m:\u001B[0m\u001B[1;33m\u001B[0m\u001B[1;33m\u001B[0m\u001B[0m\n\u001B[0;32m     24\u001B[0m         \u001B[1;31m# 更新P,Q,E\u001B[0m\u001B[1;33m\u001B[0m\u001B[1;33m\u001B[0m\u001B[1;33m\u001B[0m\u001B[0m\n\u001B[1;32m---> 25\u001B[1;33m         \u001B[0mP\u001B[0m \u001B[1;33m=\u001B[0m \u001B[0mP\u001B[0m \u001B[1;33m+\u001B[0m \u001B[0mstep\u001B[0m\u001B[1;33m*\u001B[0m\u001B[0mE\u001B[0m\u001B[1;33m@\u001B[0m\u001B[0mQ\u001B[0m\u001B[1;33m.\u001B[0m\u001B[0mT\u001B[0m \u001B[1;33m-\u001B[0m \u001B[0mlam\u001B[0m\u001B[1;33m*\u001B[0m\u001B[0mstep\u001B[0m\u001B[1;33m*\u001B[0m\u001B[0mnp\u001B[0m\u001B[1;33m.\u001B[0m\u001B[0msum\u001B[0m\u001B[1;33m(\u001B[0m\u001B[0mP\u001B[0m\u001B[1;33m[\u001B[0m\u001B[0mrow\u001B[0m\u001B[1;33m,\u001B[0m \u001B[1;33m:\u001B[0m\u001B[1;33m]\u001B[0m \u001B[1;33m,\u001B[0m\u001B[0maxis\u001B[0m\u001B[1;33m=\u001B[0m\u001B[1;36m1\u001B[0m\u001B[1;33m)\u001B[0m\u001B[1;33m\u001B[0m\u001B[1;33m\u001B[0m\u001B[0m\n\u001B[0m\u001B[0;32m     26\u001B[0m         \u001B[0mQ\u001B[0m \u001B[1;33m=\u001B[0m \u001B[0mQ\u001B[0m \u001B[1;33m+\u001B[0m \u001B[0mstep\u001B[0m\u001B[1;33m*\u001B[0m\u001B[0mP\u001B[0m\u001B[1;33m.\u001B[0m\u001B[0mT\u001B[0m\u001B[1;33m@\u001B[0m\u001B[0mE\u001B[0m \u001B[1;33m-\u001B[0m \u001B[0mlam\u001B[0m\u001B[1;33m*\u001B[0m\u001B[0mstep\u001B[0m\u001B[1;33m*\u001B[0m\u001B[0mnp\u001B[0m\u001B[1;33m.\u001B[0m\u001B[0msum\u001B[0m\u001B[1;33m(\u001B[0m\u001B[0mQ\u001B[0m\u001B[1;33m[\u001B[0m\u001B[1;33m:\u001B[0m\u001B[1;33m,\u001B[0m \u001B[0mcol\u001B[0m\u001B[1;33m]\u001B[0m\u001B[1;33m,\u001B[0m \u001B[0maxis\u001B[0m\u001B[1;33m=\u001B[0m\u001B[1;36m0\u001B[0m\u001B[1;33m)\u001B[0m\u001B[1;33m\u001B[0m\u001B[1;33m\u001B[0m\u001B[0m\n\u001B[0;32m     27\u001B[0m         \u001B[0mE\u001B[0m \u001B[1;33m=\u001B[0m \u001B[0mnp\u001B[0m\u001B[1;33m.\u001B[0m\u001B[0mwhere\u001B[0m\u001B[1;33m(\u001B[0m\u001B[0mmask\u001B[0m\u001B[1;33m,\u001B[0m \u001B[0mX\u001B[0m \u001B[1;33m-\u001B[0m \u001B[0mP\u001B[0m\u001B[1;33m@\u001B[0m\u001B[0mQ\u001B[0m\u001B[1;33m,\u001B[0m \u001B[0mX\u001B[0m\u001B[1;33m)\u001B[0m\u001B[1;33m\u001B[0m\u001B[1;33m\u001B[0m\u001B[0m\n",
      "\u001B[1;31mValueError\u001B[0m: operands could not be broadcast together with shapes (611,366) (99466,) "
     ]
    }
   ],
   "source": [
    "# 全批量，有正则化，固定步长\n",
    "# 运行时间 150m 9s\n",
    "# 隐空间维度k\n",
    "# input:\n",
    "# X: 评分矩阵\n",
    "# loss：空列表，用于存储loss,便于画图\n",
    "def mf(X, loss):\n",
    "    eps = 1e-2\n",
    "    lam = 0.02  # 正则化系数\n",
    "    step = 8e-6  # 步长\n",
    "    max_iter = int(1e5)\n",
    "    n, m = X.shape\n",
    "    k = int(min(n, m) * 0.6)  # 隐空间大小(试出来的)\n",
    "\n",
    "    P = np.random.rand(n, k)  # 初始化用户矩阵\n",
    "    Q = np.random.rand(k, m)  # 初始化商品矩阵\n",
    "    mask = X != 0\n",
    "    E = np.where(mask, X - P @ Q, X)  # 初始化\n",
    "\n",
    "    row, col, val = ss.find(X)\n",
    "\n",
    "    lossi = 1e4\n",
    "    for _ in range(max_iter):\n",
    "        # 更新P,Q,E\n",
    "        P = P + step * E @ Q.T - lam * step * np.sum(P[row, :], axis=1)\n",
    "        Q = Q + step * P.T @ E - lam * step * np.sum(Q[:, col], axis=0)\n",
    "        E = np.where(mask, X - P @ Q, X)\n",
    "        lossi_old = lossi\n",
    "        lossi = 0.5 * (np.linalg.norm(E) ** 2 + lam * (np.linalg.norm(P) ** 2 + np.linalg.norm(Q) ** 2))\n",
    "        loss.append(lossi)\n",
    "        if _ % 500 == 0:\n",
    "            print(lossi)\n",
    "        if np.abs(lossi - lossi_old) <= eps:\n",
    "            print('!')\n",
    "            break\n",
    "    return P, Q\n",
    "\n",
    "\n",
    "loss = []\n",
    "P, Q = mf(UIMatrix, loss)\n",
    "loss1 = np.array(loss)\n",
    "np.save('全批量，有正则化，固定步长loss', loss1)\n",
    "np.save('全批量，有正则化，固定步长P', P)\n",
    "np.save('全批量，有正则化，固定步长Q', Q)\n",
    "plt.plot(range(len(loss)), loss)\n",
    "print(loss[-10:])\n",
    "print(len(loss))\n",
    "plt.show()"
   ],
   "metadata": {
    "collapsed": false
   }
  },
  {
   "cell_type": "code",
   "execution_count": 6,
   "outputs": [
    {
     "name": "stdout",
     "output_type": "stream",
     "text": [
      "21340.017727853443\n",
      "0.0\n",
      "4.6391103971929\n",
      "0.0\n",
      "0.4344161886487749\n",
      "0.5940329662127002\n",
      "0.2641612792015787\n",
      "0.05305840804775939\n",
      "0.0\n",
      "0.0\n",
      "0.0\n",
      "1.0356660589349242\n",
      "1.5457950467051977\n",
      "1.4459151895789848\n",
      "0.013713868619969692\n",
      "0.0\n",
      "0.012871733423281307\n",
      "0.0\n",
      "0.46411771887902253\n",
      "1.194558506597391\n",
      "1.0607282943500729\n",
      "0.5486461428505788\n",
      "5.516889169705756\n",
      "2.7320246016933885\n",
      "0.026778687605171502\n",
      "0.0\n",
      "0.8193314980706449\n",
      "2.853110734829111\n",
      "1.1696793145724753\n",
      "0.0\n",
      "0.0\n",
      "2.9660569790728393\n",
      "0.3762367172952635\n",
      "1.054842839425971\n",
      "0.6330919226164595\n",
      "0.05443927202756567\n",
      "0.0\n",
      "0.8013646349554828\n",
      "1.6395507537248626\n",
      "0.0\n",
      "0.5416754910552735\n",
      "1.1169708424654146\n",
      "0.10036461960084553\n",
      "0.0\n",
      "0.06453282146611762\n",
      "2.658840115908166\n",
      "0.052775888717592284\n",
      "0.08557040526166217\n",
      "0.0\n",
      "0.0530405756825638\n",
      "2.81110440898683\n",
      "0.046526801690159665\n",
      "0.07353672798512291\n",
      "0.0\n",
      "0.022779033574517243\n",
      "0.14047932291090526\n",
      "0.0024501371961911282\n",
      "0.9460808113693334\n",
      "0.021910726799567973\n",
      "0.0\n",
      "1.1844340731761585\n",
      "0.0\n",
      "0.6026304275700396\n",
      "0.06583775672485298\n",
      "0.198776159319042\n",
      "1.2399167816793148\n",
      "0.2236391857444939\n",
      "0.0\n",
      "0.32785262529702597\n",
      "3.066888191768517\n",
      "0.0\n",
      "0.9453247473121447\n",
      "0.0\n",
      "2.46024871997829e-06\n",
      "0.14156587237913865\n",
      "0.0\n",
      "0.5232305889993323\n",
      "0.37092881781440806\n",
      "0.010653183043502958\n",
      "0.0038126914457747127\n",
      "0.0\n",
      "0.552709539245444\n",
      "0.010262360057663558\n",
      "0.3117972582756001\n",
      "0.0\n",
      "0.25713787674606675\n",
      "0.0\n",
      "0.16376287541498508\n",
      "0.01406293448888631\n",
      "0.03242774536307879\n",
      "1.5501468630070911\n",
      "0.3074034212266811\n",
      "0.16805975610295312\n",
      "1.0961305626154083\n",
      "0.46979779784252734\n",
      "0.9359237356825089\n",
      "0.3920581646252002\n",
      "0.012817618954783495\n",
      "0.06339011725929568\n",
      "0.0\n",
      "0.1994518417170768\n",
      "0.0\n",
      "0.04377454529864833\n",
      "0.009256651157104518\n",
      "0.011328111534291337\n",
      "0.7073801983594522\n",
      "0.0022118818792283227\n",
      "1.14928105409484\n",
      "0.0\n",
      "0.0002601799984965747\n",
      "0.009750444229108169\n",
      "0.0\n",
      "0.8855080136975864\n",
      "0.035944813562542935\n",
      "0.18315537069697121\n",
      "0.03679508744982025\n",
      "0.0021419974794236215\n",
      "0.0\n",
      "0.0\n",
      "1.7206904743667903\n",
      "0.0\n",
      "0.05359062568588864\n",
      "0.008153801543724873\n",
      "0.037909441151733315\n",
      "0.3827582957895568\n",
      "0.0\n",
      "0.061111976320513205\n",
      "0.01754325288784811\n",
      "1.1917936033433358\n",
      "0.0\n",
      "0.02480702587506732\n",
      "0.1552968041637279\n",
      "0.8628661512715566\n",
      "0.031161017266764728\n",
      "0.018506962716162156\n",
      "0.0\n",
      "0.1500911226912853\n",
      "0.0\n",
      "0.20858858664039032\n",
      "0.0\n",
      "0.0313854367328195\n",
      "0.0\n",
      "0.1471617454704589\n",
      "0.033993328214784665\n",
      "0.25673615358598667\n",
      "0.6976256361260126\n",
      "0.0\n",
      "0.2829958248622822\n",
      "0.3849875108835536\n",
      "0.0\n",
      "0.24027314656094673\n",
      "0.0\n",
      "0.34501407581572924\n",
      "0.002908924561162781\n",
      "0.11222464567544084\n",
      "2.340800183974187\n",
      "0.24221766915559215\n",
      "0.20306524780186452\n",
      "0.22393320412257178\n",
      "0.06392947501082254\n",
      "[0.05036286502638617, 0.022447206306592103, 0.004168255812301974, 0.0, 0.0, 0.0, 0.0, 0.0, 0.0, 0.0]\n",
      "80000\n"
     ]
    },
    {
     "data": {
      "text/plain": "<Figure size 432x288 with 1 Axes>",
      "image/png": "[encoded data removed]"
     },
     "metadata": {
      "needs_background": "light"
     },
     "output_type": "display_data"
    }
   ],
   "source": [
    "# 小批量，正则化，固定步长\n",
    "# 19min 52s\n",
    "def get_batch_index(batchsize, start, N):\n",
    "    start_old = start\n",
    "    start = (start_old + batchsize) % N\n",
    "    if start > start_old:\n",
    "        index = range(start_old, start)\n",
    "    else:\n",
    "        index = [i for i in range(start_old, N)] + [i for i in range(0, start)]\n",
    "    return index, start\n",
    "\n",
    "\n",
    "# 隐空间维度k\n",
    "# input:\n",
    "# X: 评分矩阵\n",
    "# loss：空列表，用于存储loss,便于画图\n",
    "def mf_regular(X, loss):\n",
    "    eps = 1e-2\n",
    "    lam = 0  # 正则化系数\n",
    "    step = 8e-6  # 步长\n",
    "    max_iter = int(8e4)\n",
    "    n, m = X.shape\n",
    "    k = int(min(n, m) * 0.6)  # 隐空间大小(试出来的)\n",
    "    batch = 128\n",
    "\n",
    "    P = np.random.rand(n, k)  # 初始化用户矩阵\n",
    "    Q = np.random.rand(k, m)  # 初始化商品矩阵\n",
    "    mask = X != 0\n",
    "    E = np.where(mask, X - P @ Q, X)  # 初始化\n",
    "\n",
    "    lossi = 1e4\n",
    "    for _ in range(max_iter):\n",
    "        # 更新P,Q,E\n",
    "        P[index_n, :] = (1 - step * lam) * P[index_n, :] + step * E[index_n, :] @ Q.T\n",
    "        Q[:, index_m] = (1 - step * lam) * Q[:, index_m] + step * P.T @ E[:, index_m]\n",
    "        E = np.where(mask, X - P @ Q, X)\n",
    "        lossi_old = lossi\n",
    "        lossi = 0.5 * (np.linalg.norm(E[index_n, index_m]) ** 2 + lam * (\n",
    "                np.linalg.norm(P[index_n, :]) ** 2 + np.linalg.norm(Q[:, index_m]) ** 2))\n",
    "        loss.append(lossi)\n",
    "\n",
    "        if _ % 500 == 0:\n",
    "            print(lossi)\n",
    "    return P, Q\n",
    "\n",
    "\n",
    "loss = []\n",
    "P, Q = mf_regular(UIMatrix, loss)\n",
    "plt.plot(range(len(loss)), loss)\n",
    "print(loss[-10:])\n",
    "print(len(loss))\n",
    "plt.show()"
   ],
   "metadata": {
    "collapsed": false,
    "ExecuteTime": {
     "end_time": "2023-06-17T14:57:20.929942600Z",
     "start_time": "2023-06-17T12:14:23.366210700Z"
    }
   }
  },
  {
   "cell_type": "code",
   "execution_count": 9,
   "outputs": [
    {
     "data": {
      "text/plain": "array([[78., 76., 82., ..., 90., 94., 92.],\n       [ 4.,  4.,  4., ...,  6.,  7.,  5.],\n       [ 4.,  3.,  6., ...,  4.,  2.,  4.],\n       ...,\n       [ 2.,  3.,  2., ...,  3.,  4.,  3.],\n       [ 3.,  3.,  6., ...,  5.,  5.,  6.],\n       [ 4.,  3.,  3., ...,  4.,  5.,  3.]])"
     },
     "execution_count": 9,
     "metadata": {},
     "output_type": "execute_result"
    }
   ],
   "source": [
    "np.round(P @ Q)"
   ],
   "metadata": {
    "collapsed": false,
    "ExecuteTime": {
     "end_time": "2023-06-17T14:58:27.674306600Z",
     "start_time": "2023-06-17T14:58:27.294165400Z"
    }
   }
  }
 ],
 "metadata": {
  "kernelspec": {
   "display_name": "Python 3",
   "language": "python",
   "name": "python3"
  },
  "language_info": {
   "codemirror_mode": {
    "name": "ipython",
    "version": 2
   },
   "file_extension": ".py",
   "mimetype": "text/x-python",
   "name": "python",
   "nbconvert_exporter": "python",
   "pygments_lexer": "ipython2",
   "version": "2.7.6"
  }
 },
 "nbformat": 4,
 "nbformat_minor": 0
}
