{
 "cells": [
  {
   "cell_type": "code",
   "execution_count": null,
   "id": "9c27f7bf-e0dc-4e47-8d87-35156e31fc2c",
   "metadata": {},
   "outputs": [],
   "source": []
  },
  {
   "cell_type": "code",
   "execution_count": 1,
   "id": "56881613-b8cc-40f0-ad95-b1450b425ff5",
   "metadata": {},
   "outputs": [],
   "source": [
    "import numpy as np\n",
    "import time\n",
    "import random\n",
    "import psutil"
   ]
  },
  {
   "cell_type": "code",
   "execution_count": 2,
   "id": "c468b118-521d-47be-991b-f9026ca9e34c",
   "metadata": {},
   "outputs": [
    {
     "name": "stdout",
     "output_type": "stream",
     "text": [
      "% 18771 198050\n",
      "\n"
     ]
    }
   ],
   "source": [
    "# 获取数据信息\n",
    "f = open(\"ca-AstroPh.txt\", 'r')\n",
    "firstline = f.readline()\n",
    "f.close()\n",
    "print(firstline)"
   ]
  },
  {
   "cell_type": "code",
   "execution_count": 3,
   "id": "44234e61-ef6c-4416-b6fb-1423bc921623",
   "metadata": {},
   "outputs": [],
   "source": [
    "# 定义全局变量\n",
    "N = 18771  # 节点数目\n",
    "r = 3\n",
    "b = 3000\n",
    "mh_n = r*b\n",
    "all_mhs = range(mh_n)\n",
    "all_nodes = range(1, N+1)\n",
    "TOP_K = 10"
   ]
  },
  {
   "cell_type": "code",
   "execution_count": 4,
   "id": "1c570282-9349-47f0-abc4-3bdddff5437d",
   "metadata": {},
   "outputs": [],
   "source": [
    "# 转换成邻接表\n",
    "A = {}\n",
    "f = open(\"ca-AstroPh.txt\", 'r')\n",
    "f.readline()\n",
    "while True:\n",
    "    try:\n",
    "        line = f.readline().strip().split(' ')  # 去掉回车符并分割\n",
    "        i = int(line[0])\n",
    "        j = int(line[1])\n",
    "        try:\n",
    "            A[i].add(j)\n",
    "        except Exception:\n",
    "            A[i] = set([])\n",
    "            A[i].add(j)\n",
    "        try:\n",
    "            A[j].add(i)\n",
    "        except Exception:\n",
    "            A[j] = set([])\n",
    "            A[j].add(i)\n",
    "    except ValueError:\n",
    "        break\n",
    "f.close()\n",
    "for i in all_nodes:\n",
    "    A[i] = list(A[i])"
   ]
  },
  {
   "cell_type": "code",
   "execution_count": 5,
   "id": "252deea3-3f2c-4c33-9e47-47f1504a3711",
   "metadata": {
    "tags": []
   },
   "outputs": [
    {
     "name": "stdout",
     "output_type": "stream",
     "text": [
      "最小哈希签名矩阵构建时间： 329.1273694038391 s\n"
     ]
    }
   ],
   "source": [
    "mhtab = np.zeros((mh_n, N+1), dtype='int32')\n",
    "start = time.time()\n",
    "for i in all_mhs:\n",
    "    for j in all_nodes:\n",
    "        np.random.shuffle(A[j])\n",
    "        mhtab[i, j] = A[j][0]\n",
    "end1 = time.time()\n",
    "print(\"最小哈希签名矩阵构建时间：\", end1 - start, \"s\")\n",
    "np.save(\"mhtab\", mhtab)"
   ]
  },
  {
   "cell_type": "code",
   "execution_count": 6,
   "id": "36905e36-7344-4121-840e-70c0587fe70d",
   "metadata": {},
   "outputs": [
    {
     "name": "stdout",
     "output_type": "stream",
     "text": [
      "桶映射时间： 296.23503160476685 s\n",
      "索引时间： 625.362401008606 s\n"
     ]
    }
   ],
   "source": [
    "# 映射到桶\n",
    "bucket = {}  \n",
    "for i in range(b):   # i表示第i组\n",
    "    for k in all_nodes:\n",
    "        sign = mhtab[i*r:(i+1)*r, k]   # 数组切片表示签名\n",
    "        sign = str([s for s in sign])\n",
    "        try:\n",
    "            bucket[sign].add(k)\n",
    "        except Exception:\n",
    "            bucket[sign] = set([])\n",
    "            bucket[sign].add(k)\n",
    "end2 = time.time()\n",
    "print(\"桶映射时间：\", end2 - end1, \"s\")\n",
    "print(\"索引时间：\", end2 - start, \"s\")"
   ]
  },
  {
   "cell_type": "code",
   "execution_count": 7,
   "id": "3e9bfd9a-4895-4f6e-8c61-6628e211dab8",
   "metadata": {},
   "outputs": [],
   "source": [
    "def meminfo():    \n",
    "    # 获取当前进程的内存信息\n",
    "    process = psutil.Process()\n",
    "    memory_info = process.memory_info()\n",
    "    # 获取内存占用大小（以字节为单位）\n",
    "    memory_usage = memory_info.rss\n",
    "    # 打印内存占用大小（以Mb为单位）\n",
    "    print(\"当前程序占用的内存：\", memory_usage/1024/1024, \"MB\")\n",
    "    # 获取系统内存信息\n",
    "    memory_info = psutil.virtual_memory()\n",
    "    # 获取内存使用率（以百分比表示）\n",
    "    memory_usage_percent = memory_info.percent\n",
    "    # 打印内存使用率\n",
    "    print(\"当前程序的空间使用率：\", memory_usage_percent, \"%\")"
   ]
  },
  {
   "cell_type": "code",
   "execution_count": 8,
   "id": "0567fc96-b965-451d-9563-47b96526fc96",
   "metadata": {},
   "outputs": [
    {
     "name": "stdout",
     "output_type": "stream",
     "text": [
      "当前程序占用的内存： 7903.2421875 MB\n",
      "当前程序的空间使用率： 98.4 %\n"
     ]
    }
   ],
   "source": [
    "meminfo()"
   ]
  },
  {
   "cell_type": "code",
   "execution_count": 9,
   "id": "b0bb3521-87ca-4663-b363-c1599eaa73d3",
   "metadata": {},
   "outputs": [],
   "source": [
    "def Jaccard(n1, n2):  # 计算两个结点的Jaccard相似度\n",
    "    # n1, n2: set([1,3,5])\n",
    "    mu = len(n1 & n2)\n",
    "    de = len(n1 | n2)\n",
    "    return mu/de\n",
    "\n",
    "\n",
    "def query(node):\n",
    "    # 候选集\n",
    "    candi = set([])\n",
    "    for i in range(b):\n",
    "         # 获取签名并更新候选集\n",
    "        sign = mhtab[i*r:(i+1)*r, node]  # 数组切片表示签名\n",
    "        sign = str([s for s in sign])\n",
    "        candi |= (bucket[sign])\n",
    "    candi.remove(node)\n",
    "    # 计算与候选集中Jaccard相似度最大的top10\n",
    "    Jlist = {}  # 保存所有Jaccard\n",
    "    n1 = set(A[node])\n",
    "    for c in candi:\n",
    "        n2 = set(A[c])\n",
    "        Jlist[c] = Jaccard(n1, n2)\n",
    "    res = sorted(Jlist.items(), key=lambda x: x[1], reverse=True)[:TOP_K]\n",
    "    return res"
   ]
  },
  {
   "cell_type": "code",
   "execution_count": 10,
   "id": "36b4c0d5-99fb-4ddb-b3a0-c247c78ed0af",
   "metadata": {},
   "outputs": [
    {
     "name": "stdout",
     "output_type": "stream",
     "text": [
      "[(17, 0.23333333333333334), (40, 0.14130434782608695), (63, 0.12790697674418605), (75, 0.11956521739130435), (56, 0.09411764705882353), (42, 0.07894736842105263), (19, 0.07407407407407407), (61, 0.07086614173228346), (2, 0.0707070707070707), (29, 0.06593406593406594)]\n",
      "查询时间:0.024412870407104492 s\n"
     ]
    }
   ],
   "source": [
    "start = time.time()\n",
    "print(query(1))\n",
    "end = time.time()\n",
    "print(\"查询时间:{} s\".format(end-start))"
   ]
  },
  {
   "cell_type": "code",
   "execution_count": 11,
   "id": "eb4bc534-fc39-446c-966a-6598b0e42e4a",
   "metadata": {},
   "outputs": [
    {
     "name": "stdout",
     "output_type": "stream",
     "text": [
      "当前程序占用的内存： 7899.359375 MB\n",
      "当前程序的空间使用率： 98.9 %\n"
     ]
    }
   ],
   "source": [
    "meminfo()"
   ]
  },
  {
   "cell_type": "code",
   "execution_count": 12,
   "id": "aaed19da-8f2f-47ab-a87a-54cc4cca270f",
   "metadata": {},
   "outputs": [],
   "source": [
    "def accurate(node):\n",
    "    Jaccards = {}\n",
    "    x = set(A[node])\n",
    "    all_nodes_set = set([n for n in all_nodes])\n",
    "    all_nodes_set.remove(node)\n",
    "    for i in all_nodes_set:\n",
    "        y = set(A[i])\n",
    "        Jaccards[i] = Jaccard(x, y)\n",
    "    accurate_res = sorted(Jaccards.items(), key=lambda x: x[1], reverse=True)[: TOP_K]\n",
    "    my_res = query(node)\n",
    "    mu = len(set([r[0] for r in accurate_res]) & set([r[0] for r in my_res]))\n",
    "    return mu/TOP_K"
   ]
  },
  {
   "cell_type": "code",
   "execution_count": 13,
   "id": "51e22f46-6888-4257-b8f1-459c5370e875",
   "metadata": {
    "tags": []
   },
   "outputs": [
    {
     "name": "stdout",
     "output_type": "stream",
     "text": [
      "准确率： 0.8620000000000002\n"
     ]
    }
   ],
   "source": [
    "sum_ = 0\n",
    "for i in range(100):\n",
    "    node = random.randint(1, N)\n",
    "    a = accurate(node)\n",
    "    sum_ += a\n",
    "print(\"准确率：\", sum_/100)"
   ]
  },
  {
   "cell_type": "code",
   "execution_count": null,
   "id": "aa34c163-0e53-4e00-95a9-af60cf06469d",
   "metadata": {},
   "outputs": [],
   "source": []
  },
  {
   "cell_type": "code",
   "execution_count": null,
   "id": "98fb494d-a258-45f4-b890-645da74f0a59",
   "metadata": {},
   "outputs": [],
   "source": []
  }
 ],
 "metadata": {
  "kernelspec": {
   "display_name": "Python 3 (ipykernel)",
   "language": "python",
   "name": "python3"
  },
  "language_info": {
   "codemirror_mode": {
    "name": "ipython",
    "version": 3
   },
   "file_extension": ".py",
   "mimetype": "text/x-python",
   "name": "python",
   "nbconvert_exporter": "python",
   "pygments_lexer": "ipython3",
   "version": "3.8.11"
  }
 },
 "nbformat": 4,
 "nbformat_minor": 5
}
