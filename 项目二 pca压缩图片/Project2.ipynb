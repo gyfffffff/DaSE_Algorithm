{
 "cells": [
  {
   "cell_type": "markdown",
   "source": [
    "# 实验二 利用PCA进行图片压缩\n",
    "选择airplane数据集"
   ],
   "metadata": {
    "collapsed": false
   }
  },
  {
   "cell_type": "code",
   "execution_count": 1,
   "id": "4e114f5f-b78a-428c-870a-cfd5ec6b9f9f",
   "metadata": {
    "ExecuteTime": {
     "end_time": "2023-06-09T01:57:10.764501400Z",
     "start_time": "2023-06-09T01:57:07.114258900Z"
    }
   },
   "outputs": [],
   "source": [
    "# 导入必要Python库\n",
    "import numpy as np\n",
    "from PIL import Image\n",
    "import os\n",
    "import time\n",
    "import pandas as pd"
   ]
  },
  {
   "cell_type": "markdown",
   "source": [
    "## QR分解求全部特征值"
   ],
   "metadata": {
    "collapsed": false
   }
  },
  {
   "cell_type": "code",
   "execution_count": 191,
   "outputs": [],
   "source": [
    "# QR分解\n",
    "# 返回降序的特征值特征向量\n",
    "def qr_eig(A):\n",
    "    num_iter = 100\n",
    "    n = A.shape[0]\n",
    "\n",
    "    Q_total = np.eye(n)  # 相当于S\n",
    "    R = A.copy() # 相当于Ak\n",
    "\n",
    "    for _ in range(num_iter):\n",
    "        Q, R = np.linalg.qr(R)\n",
    "        R = np.dot(R, Q)\n",
    "        Q_total = np.dot(Q_total, Q)\n",
    "\n",
    "    eigvals = np.diag(R)\n",
    "    eigvecs = Q_total\n",
    "    # 获取排序的索引\n",
    "    idx = np.argsort(eigvals)[::-1]\n",
    "    # 用索引来排序特征值和特征向量\n",
    "    eigvals = eigvals[idx]\n",
    "    eigvecs = eigvecs[:, idx]\n",
    "    return eigvals, eigvecs\n",
    "\n",
    "def qr_pca(picpath, threshold=0.9):\n",
    "    # 读取图片，并转化成2维矩阵\n",
    "    image = Image.open(path+pic).convert('RGB')\n",
    "    imarray = np.array(image)\n",
    "    im256_768 = np.vstack((imarray[:,:,0], imarray[:,:,1], imarray[:,:,2]))\n",
    "    # im256_768 = imarray.reshape((256,768))\n",
    "    n = im256_768.shape[0]\n",
    "\n",
    "    # 中心化，标准化\n",
    "    mean = np.mean(im256_768, axis=0).reshape(1,-1)\n",
    "    sds = n-1\n",
    "    im_centered = (im256_768 - mean)/sds # 这里一定要做标准化，因为行之间存在相关性\n",
    "\n",
    "    # 协方差矩阵\n",
    "    cov = im_centered.T @ im_centered\n",
    "\n",
    "    # 特征值特征向量\n",
    "    Sigma, U = qr_eig(cov)\n",
    "\n",
    "    # 按照threshold计算k\n",
    "    sigma_sum = np.sum(Sigma)\n",
    "    Sigma_cumsum = np.cumsum(Sigma/sigma_sum)\n",
    "    k = np.argwhere(Sigma_cumsum>threshold)[0][0]\n",
    "\n",
    "    # 计算主成分\n",
    "    im_256_k = (im_centered @ U)[:,:k]\n",
    "\n",
    "    # reconstruct\n",
    "    im_pca = (im_256_k @ U.T[:k,:])*sds+mean\n",
    "    im_pca = im_pca.astype('uint8')\n",
    "    channels = np.vsplit(im_pca, 3)\n",
    "    im_res = np.zeros_like(imarray)\n",
    "    for i in range(3):\n",
    "        im_res[:,:,i] = channels[i]\n",
    "    return Image.fromarray(im_res)"
   ],
   "metadata": {
    "collapsed": false,
    "ExecuteTime": {
     "end_time": "2023-06-09T04:37:15.118436400Z",
     "start_time": "2023-06-09T04:37:15.090867700Z"
    }
   }
  },
  {
   "cell_type": "code",
   "execution_count": 3,
   "outputs": [],
   "source": [
    "# 计算压缩率和重构误差\n",
    "def get_cr(srcpath, dirpath):\n",
    "    srcsz = os.path.getsize(srcpath)\n",
    "    dirsz = os.path.getsize(dirpath)\n",
    "    return round((srcsz-dirsz)/srcsz, 4)\n",
    "def get_mse(srcpath, dirpath):\n",
    "    a = np.array(Image.open(srcpath))\n",
    "    b = np.array(Image.open(dirpath))\n",
    "    return round(np.square(a-b).mean(), 4)"
   ],
   "metadata": {
    "collapsed": false,
    "ExecuteTime": {
     "end_time": "2023-06-09T01:58:40.429196700Z",
     "start_time": "2023-06-09T01:58:40.402080100Z"
    }
   }
  },
  {
   "cell_type": "markdown",
   "id": "65a84e98-a1b2-4966-9b84-79f759701e2e",
   "metadata": {},
   "source": [
    "## 幂法+降阶技术 求前k特征值"
   ]
  },
  {
   "cell_type": "code",
   "execution_count": 276,
   "outputs": [],
   "source": [
    "# 幂法\n",
    "# A: mat\n",
    "# return: (特征值，特征向量)\n",
    "def PowerMethod(A, eps=0.001):\n",
    "    v_old = np.random.random(A.shape[0])[:,None]\n",
    "    max_iter = 100\n",
    "    for _ in range(max_iter):\n",
    "        v_new = A@v_old\n",
    "        v_new = v_new/(np.linalg.norm(v_new))\n",
    "        if np.linalg.norm(v_new - v_old) <=eps:\n",
    "            break\n",
    "        v_old = v_new\n",
    "    lam = v_new.T@A@v_new\n",
    "    return lam[0,0],v_new.reshape(-1)\n",
    "# 求前k大特征值和对应的特征向量\n",
    "def power_eig(A, k):\n",
    "    n = A.shape[0]\n",
    "    w = np.zeros(k)\n",
    "    U = np.zeros((n,k))\n",
    "    for i in range(k):\n",
    "        w1,u1 = PowerMethod(A)\n",
    "        w[i] = w1\n",
    "        U[:,i] = u1\n",
    "        A = A-w1*u1.T@u1\n",
    "    return w,U"
   ],
   "metadata": {
    "collapsed": false,
    "ExecuteTime": {
     "end_time": "2023-06-09T06:22:40.983765Z",
     "start_time": "2023-06-09T06:22:40.967047300Z"
    }
   }
  },
  {
   "cell_type": "code",
   "execution_count": 277,
   "outputs": [],
   "source": [
    "def power_pca(picpath, k):\n",
    "    # 读取图片，并转化成2维矩阵\n",
    "    image = Image.open(path+pic).convert('RGB')\n",
    "    imarray = np.array(image)\n",
    "    # im25536_3 = np.hstack((imarray[:,:,0], imarray[:,:,1], imarray[:,:,2]))\n",
    "    im25536_3 = imarray.reshape((-1,3))\n",
    "    n = im25536_3.shape[0]\n",
    "\n",
    "    # 中心化，标准化\n",
    "    mean = np.mean(im25536_3, axis=0).reshape(1,-1)\n",
    "    sds = 1\n",
    "    im_centered = (im25536_3 - mean)/sds\n",
    "\n",
    "    # 协方差矩阵\n",
    "    cov = im_centered.T @ im_centered\n",
    "\n",
    "    # 特征值特征向量\n",
    "    # print(np.linalg.eigh(cov.copy()))\n",
    "    Sigma, Uk = power_eig(cov.copy(), k)\n",
    "    # print(Sigma,Uk)\n",
    "    # 计算主成分\n",
    "    im_256_k = (im_centered @ Uk)\n",
    "\n",
    "    # reconstruct\n",
    "    im_pca = (im_256_k @ Uk.T)*sds+mean\n",
    "    im_pca = im_pca.astype('uint8')\n",
    "    im_res = im_pca.reshape((256,256,3))\n",
    "    # channels = np.hsplit(im_pca, 3)\n",
    "    # im_res = np.zeros_like(imarray)\n",
    "    # for i in range(3):\n",
    "    #     im_res[:,:,i] = channels[i]\n",
    "    return Image.fromarray(im_res)"
   ],
   "metadata": {
    "collapsed": false,
    "ExecuteTime": {
     "end_time": "2023-06-09T06:22:41.718599700Z",
     "start_time": "2023-06-09T06:22:41.685132700Z"
    }
   }
  },
  {
   "cell_type": "code",
   "execution_count": 281,
   "id": "24a07010-0500-406b-a97c-1fa4bda4937d",
   "metadata": {
    "ExecuteTime": {
     "end_time": "2023-06-09T07:55:10.756058900Z",
     "start_time": "2023-06-09T07:55:08.657353100Z"
    }
   },
   "outputs": [],
   "source": [
    "res = {'pic':[],'time_spend':[],'compact_rate':[],'MSE':[]}\n",
    "path = './lab2-图像压缩/Images/airplane/'\n",
    "pics = os.listdir(path)\n",
    "for pic in pics:\n",
    "    impath = path+pic\n",
    "    pca_pic_path = './power_pca/'+pic\n",
    "    start = time.time()\n",
    "    resim = power_pca(impath, 2)\n",
    "    time_spend = time.time() - start\n",
    "    resim.save(pca_pic_path)\n",
    "    compact_rate = get_cr(impath, pca_pic_path)\n",
    "    mse = get_mse(impath, pca_pic_path)\n",
    "    res['pic'].append(pic)\n",
    "    res['time_spend'].append(time_spend)\n",
    "    res['compact_rate'].append(compact_rate)\n",
    "    res['MSE'].append(mse)\n",
    "pd.DataFrame(res).to_csv('./power_pca_res.csv')"
   ]
  },
  {
   "cell_type": "code",
   "execution_count": null,
   "outputs": [],
   "source": [],
   "metadata": {
    "collapsed": false
   }
  },
  {
   "cell_type": "code",
   "execution_count": 3,
   "outputs": [
    {
     "data": {
      "text/plain": "<Figure size 432x288 with 1 Axes>",
      "image/png": "[encoded data removed]"
     },
     "metadata": {},
     "output_type": "display_data"
    }
   ],
   "source": [
    "import networkx as nx\n",
    "G = nx.graph_atlas(10)\n",
    "nx.draw(G)"
   ],
   "metadata": {
    "collapsed": false,
    "ExecuteTime": {
     "end_time": "2023-06-10T06:03:07.963318100Z",
     "start_time": "2023-06-10T06:03:06.169049500Z"
    }
   }
  },
  {
   "cell_type": "code",
   "execution_count": null,
   "outputs": [],
   "source": [],
   "metadata": {
    "collapsed": false
   }
  }
 ],
 "metadata": {
  "kernelspec": {
   "display_name": "Python 3 (ipykernel)",
   "language": "python",
   "name": "python3"
  },
  "language_info": {
   "codemirror_mode": {
    "name": "ipython",
    "version": 3
   },
   "file_extension": ".py",
   "mimetype": "text/x-python",
   "name": "python",
   "nbconvert_exporter": "python",
   "pygments_lexer": "ipython3",
   "version": "3.8.11"
  },
  "toc": {
   "base_numbering": 1,
   "nav_menu": {},
   "number_sections": true,
   "sideBar": true,
   "skip_h1_title": false,
   "title_cell": "Table of Contents",
   "title_sidebar": "Contents",
   "toc_cell": false,
   "toc_position": {},
   "toc_section_display": true,
   "toc_window_display": false
  },
  "varInspector": {
   "cols": {
    "lenName": 16,
    "lenType": 16,
    "lenVar": 40
   },
   "kernels_config": {
    "python": {
     "delete_cmd_postfix": "",
     "delete_cmd_prefix": "del ",
     "library": "var_list.py",
     "varRefreshCmd": "print(var_dic_list())"
    },
    "r": {
     "delete_cmd_postfix": ") ",
     "delete_cmd_prefix": "rm(",
     "library": "var_list.r",
     "varRefreshCmd": "cat(var_dic_list()) "
    }
   },
   "types_to_exclude": [
    "module",
    "function",
    "builtin_function_or_method",
    "instance",
    "_Feature"
   ],
   "window_display": false
  }
 },
 "nbformat": 4,
 "nbformat_minor": 5
}
